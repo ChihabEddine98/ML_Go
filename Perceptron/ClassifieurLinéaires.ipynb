{
  "nbformat": 4,
  "nbformat_minor": 0,
  "metadata": {
    "colab": {
      "name": "ClassifieurLinéaires.ipynb",
      "provenance": [],
      "collapsed_sections": []
    },
    "kernelspec": {
      "name": "python3",
      "display_name": "Python 3"
    }
  },
  "cells": [
    {
      "cell_type": "markdown",
      "metadata": {
        "id": "RN4XXK3sG40Y"
      },
      "source": [
        "# Quelques références \n",
        "\n",
        "\n",
        "*   Généralités sur le perceptron :\n",
        "> *   Introduction au Machine Learning (Chloé-Agathe Azencott) - Chap 7\n",
        "*   Algèbre linéaire \n",
        "> * [Linear Algebra Review and Reference - Zico Kolter](http://www.cs.cmu.edu/~zkolter/course/linalg/linalg_notes.pdf )\n",
        "* Numpy efficace \n",
        "> * [intro Numpy - S. Raschka](https://sebastianraschka.com/pdf/books/dlb/appendix_f_numpy-intro.pdf)\n",
        "> *[Look Ma, no for-loops](https://realpython.com/numpy-array-programming/)\n",
        "* Pandas \\& Matplotlib\n",
        "> * [Manipulation de données](https://pandas.pydata.org/pandas-docs/stable/10min.html)\n",
        "> * [Représentation des données et figures](http://matplotlib.org/users/beginner.html)"
      ]
    },
    {
      "cell_type": "markdown",
      "metadata": {
        "id": "8_yNoKuJG-jT"
      },
      "source": [
        "# Echauffement\n",
        "Pour illustrer l'intérêt de la vectorisation, nous allons comparer le temps de calcul d'une méthode simple suivant si on l'implémente naîvement ou si on utilise la vectorisation.\n",
        "\n",
        "Dans un premier temps, on donne un code permettant de mesurer le temps d'exécution d'un segment de code."
      ]
    },
    {
      "cell_type": "code",
      "metadata": {
        "id": "XVZaBFRtG1YO"
      },
      "source": [
        "import time \n",
        "\n",
        "tic = time.time()\n",
        "\n",
        "# code dont on cherche à mesuer le temps d'execution\n",
        "\n",
        "toc = time.time()\n",
        "\n",
        "print(\"Temps mesuré: \", toc - tic)\n",
        "\n",
        "# en pratique, pour une estimation plus robuste, on préférera faire une moyenne sur plusieurs itérations"
      ],
      "execution_count": null,
      "outputs": []
    },
    {
      "cell_type": "markdown",
      "metadata": {
        "id": "vbWv5JblHHtk"
      },
      "source": [
        "On va chercher à calculer pour A et B, deux tenseurs d'ordre 3, la quantité suivante : \\\\\n",
        "$\\sum_i \\sum_j \\sum_k (A_{ijk} - B_{ijk})^2$ \n",
        "\n",
        "1.   Implémenter ce calcul avec une triple boucle dans la fonctione l2_loop\n",
        "2.   Implémenter ce calcul grâce à la vectorisation dans la fonction l2_vectorise\n",
        "3.   Comparer les temps de calculs de ces fonctions (on pourra jouer sur les dimensions des tenseurs).\n",
        "\n"
      ]
    },
    {
      "cell_type": "code",
      "metadata": {
        "id": "AioCptqrHImP",
        "colab": {
          "base_uri": "https://localhost:8080/",
          "height": 132
        },
        "outputId": "39caea48-2f86-4e41-baa4-bf70dba7b3cb"
      },
      "source": [
        "import timeit\n",
        "import numpy as np\n",
        "\n",
        "# dimensions des tenseurs A et B\n",
        "la=500\n",
        "lb=1200\n",
        "lc = 3\n",
        "\n",
        "# Version naive (avec une triple boucle)\n",
        "def l2_loop(image1, image2):\n",
        "    return sum((image1[i,j,k]-image2[i,j,k])**2 for i,j,k in zip(range(image1.shape[0]),range(image1.shape                  [1]),range(image1.shape[2])))\n",
        "\n",
        "\n",
        "# Version efficace (vectorisation)\n",
        "def l2_vectorise(image1, image2):\n",
        "    return 0\n",
        "\n",
        "\n",
        "# generation aleatoire des deux tenseurs \n",
        "image1 = np.random.rand(la,lb,lc)\n",
        "image2 = np.random.rand(la,lb,lc)\n",
        "\n",
        "#comparaison des temps de calcul des deux fonctions appliquées sur les deux tenseurs générés\n"
      ],
      "execution_count": null,
      "outputs": [
        {
          "output_type": "error",
          "ename": "IndentationError",
          "evalue": "ignored",
          "traceback": [
            "\u001b[0;36m  File \u001b[0;32m\"<ipython-input-1-c496024f3297>\"\u001b[0;36m, line \u001b[0;32m15\u001b[0m\n\u001b[0;31m    def l2_vectorise(image1, image2):\u001b[0m\n\u001b[0m      ^\u001b[0m\n\u001b[0;31mIndentationError\u001b[0m\u001b[0;31m:\u001b[0m expected an indented block\n"
          ]
        }
      ]
    },
    {
      "cell_type": "markdown",
      "metadata": {
        "id": "E2RrwCPZHrs0"
      },
      "source": [
        "## Implémentation du perceptron en Python\n",
        "\n",
        "On va implémenter un Perceptron en suivant une démarche objet similaire à celle utilisée dans scikit-learn.\n",
        "\n",
        "On donne le squelette de la classe Perceptron.\n",
        "1.   Implémenter la fonction predict, qui implémente \n",
        "$\\phi (z)\\begin{cases}1 & \\text{si } z\\geq 0 \\\\-1 & \\text{sinon}\\end{cases}$ \\\\\n",
        "*indication* $z$ est calculée avec la fonction net_input\n",
        "2.   Compléter l'implémentation de fit (qui applique la règle du perceptron)"
      ]
    },
    {
      "cell_type": "code",
      "metadata": {
        "id": "QkwjU3oOHt1w"
      },
      "source": [
        "import numpy as np\n",
        "\n",
        "\n",
        "class Perceptron(object):\n",
        "    \"\"\"Perceptron.\n",
        "\n",
        "    Parametres\n",
        "    ------------\n",
        "    eta : float\n",
        "      Learning rate (entre 0.0 et 1.0)\n",
        "    n_iter : int\n",
        "      Nombre de passes sur l'ensemble d'apprentissage.\n",
        "    random_state : int\n",
        "      Graine pour le générateur de nombres pseudo-aléatoire pour \n",
        "      l'initialisation aléatoire des poinds.\n",
        "\n",
        "    Attributs\n",
        "    -----------\n",
        "    w_ : 1d-array\n",
        "      Poids apres l'apprentissage.\n",
        "    errors_ : list\n",
        "      Nombre de predictions erronees a chaque passe (epoch).\n",
        "\n",
        "    \"\"\"\n",
        "    def __init__(self, eta=0.01, n_iter=50, random_state=1):\n",
        "        self.eta = eta\n",
        "        self.n_iter = n_iter\n",
        "        self.random_state = random_state\n",
        "\n",
        "    def fit(self, X, y):\n",
        "        \"\"\"Apprentissage des poids sur les donnees d'apprentissage.\n",
        "\n",
        "        Parameters\n",
        "        ----------\n",
        "        X : {array-like}, shape = [n_examples, n_features]\n",
        "          Exemples d'apprentissages (vecteurs), ou n_examples est le nombre \n",
        "          d'echantillons et n_features est le nombre de variables (features).\n",
        "        y : array-like, shape = [n_examples]\n",
        "          Labels.\n",
        "\n",
        "        Retourne\n",
        "        -------\n",
        "        self : object\n",
        "\n",
        "        \"\"\"\n",
        "        #initiatlisation aléatoire des poids w\n",
        "        rgen = np.random.RandomState(self.random_state)\n",
        "        self.w_ = rgen.normal(loc=0.0, scale=0.01, size=1 + X.shape[1])\n",
        "        self.errors_ = [] # dans cette liste, on stocke le nombre d'erreurs commises à chaque itération \n",
        "\n",
        "        # A compléter \n",
        "\n",
        "        return self\n",
        "\n",
        "    def net_input(self, X):\n",
        "        \"\"\"Calcul de la sortie du reseau\"\"\"\n",
        "        # cette fonction permet de calculer le produit scalaire de w et de chaque exemple dans X\n",
        "        #la terminologie est un peu trompeuse ici (mais on verra pourquoi après)\n",
        "        return np.dot(X, self.w_[1:]) + self.w_[0]\n",
        "\n",
        "    def predict(self, X):\n",
        "        \"\"\"Classes predites par le reseau (avec les poids courants)\"\"\"\n",
        "        return  # A complementer \n"
      ],
      "execution_count": null,
      "outputs": []
    },
    {
      "cell_type": "markdown",
      "metadata": {
        "id": "umvCYk32ILhr"
      },
      "source": [
        "# Apprentissage sur la base Iris\n",
        "\n",
        "Pour tester la classe implémentée précédemment, on va charger le jeu de données Iris (en se restreignant à deux classes et deux variables).\n",
        "\n",
        "Le code pour charger et afficher ces données est fourni ici.\n",
        "\n",
        "1.   Au vue de la Figure affichée, peut-on espérer que la règle du perceptron converge ?\n",
        "2.   Créer un objet de type Perceptron et appliquer la fonction fit. Pour vérifier que l'apprentissage a convergé (en traçant le nombre d'erreurs commises à chaque itération). on pourra jouer sur les hyperparamètres (learning rate et nombre d'itérations max).\n",
        "3.   on fournit le code pour afficher la frontière de décision d'un classifieur entraîné. Appliquer le à votre perceptron. La frontière de décision semble-t-elle correcte ?\n",
        "*Remarque * le code plot_decision_regions applique la fonction predict de la classe sur une grille suffisament fine. (on comprend avec ce code, l'intérêt d'utiliser des objets avec des signatures similaires pour les classifieurs)\n"
      ]
    },
    {
      "cell_type": "code",
      "metadata": {
        "id": "to9iTrsGIPMb",
        "colab": {
          "base_uri": "https://localhost:8080/",
          "height": 224
        },
        "outputId": "5f94b1d3-9517-4556-90c5-b1d3649e827b"
      },
      "source": [
        "import os\n",
        "import pandas as pd\n",
        "\n",
        "\n",
        "s = 'https://archive.ics.uci.edu/ml/machine-learning-databases/iris/iris.data'\n",
        "print('URL:', s)\n",
        "\n",
        "df = pd.read_csv(s,\n",
        "                 header=None,\n",
        "                 encoding='utf-8')\n",
        "\n",
        "df.tail()"
      ],
      "execution_count": null,
      "outputs": [
        {
          "output_type": "stream",
          "text": [
            "URL: https://archive.ics.uci.edu/ml/machine-learning-databases/iris/iris.data\n"
          ],
          "name": "stdout"
        },
        {
          "output_type": "execute_result",
          "data": {
            "text/html": [
              "<div>\n",
              "<style scoped>\n",
              "    .dataframe tbody tr th:only-of-type {\n",
              "        vertical-align: middle;\n",
              "    }\n",
              "\n",
              "    .dataframe tbody tr th {\n",
              "        vertical-align: top;\n",
              "    }\n",
              "\n",
              "    .dataframe thead th {\n",
              "        text-align: right;\n",
              "    }\n",
              "</style>\n",
              "<table border=\"1\" class=\"dataframe\">\n",
              "  <thead>\n",
              "    <tr style=\"text-align: right;\">\n",
              "      <th></th>\n",
              "      <th>0</th>\n",
              "      <th>1</th>\n",
              "      <th>2</th>\n",
              "      <th>3</th>\n",
              "      <th>4</th>\n",
              "    </tr>\n",
              "  </thead>\n",
              "  <tbody>\n",
              "    <tr>\n",
              "      <th>145</th>\n",
              "      <td>6.7</td>\n",
              "      <td>3.0</td>\n",
              "      <td>5.2</td>\n",
              "      <td>2.3</td>\n",
              "      <td>Iris-virginica</td>\n",
              "    </tr>\n",
              "    <tr>\n",
              "      <th>146</th>\n",
              "      <td>6.3</td>\n",
              "      <td>2.5</td>\n",
              "      <td>5.0</td>\n",
              "      <td>1.9</td>\n",
              "      <td>Iris-virginica</td>\n",
              "    </tr>\n",
              "    <tr>\n",
              "      <th>147</th>\n",
              "      <td>6.5</td>\n",
              "      <td>3.0</td>\n",
              "      <td>5.2</td>\n",
              "      <td>2.0</td>\n",
              "      <td>Iris-virginica</td>\n",
              "    </tr>\n",
              "    <tr>\n",
              "      <th>148</th>\n",
              "      <td>6.2</td>\n",
              "      <td>3.4</td>\n",
              "      <td>5.4</td>\n",
              "      <td>2.3</td>\n",
              "      <td>Iris-virginica</td>\n",
              "    </tr>\n",
              "    <tr>\n",
              "      <th>149</th>\n",
              "      <td>5.9</td>\n",
              "      <td>3.0</td>\n",
              "      <td>5.1</td>\n",
              "      <td>1.8</td>\n",
              "      <td>Iris-virginica</td>\n",
              "    </tr>\n",
              "  </tbody>\n",
              "</table>\n",
              "</div>"
            ],
            "text/plain": [
              "       0    1    2    3               4\n",
              "145  6.7  3.0  5.2  2.3  Iris-virginica\n",
              "146  6.3  2.5  5.0  1.9  Iris-virginica\n",
              "147  6.5  3.0  5.2  2.0  Iris-virginica\n",
              "148  6.2  3.4  5.4  2.3  Iris-virginica\n",
              "149  5.9  3.0  5.1  1.8  Iris-virginica"
            ]
          },
          "metadata": {
            "tags": []
          },
          "execution_count": 1
        }
      ]
    },
    {
      "cell_type": "code",
      "metadata": {
        "id": "S53GlxcMITTq",
        "colab": {
          "base_uri": "https://localhost:8080/",
          "height": 279
        },
        "outputId": "567fc99a-fab3-4feb-c7b9-f23c47bb822e"
      },
      "source": [
        "%matplotlib inline\n",
        "import matplotlib.pyplot as plt\n",
        "import numpy as np\n",
        "\n",
        "# selectionn de setosa et versicolor\n",
        "y = df.iloc[0:100, 4].values\n",
        "y = np.where(y == 'Iris-setosa', -1, 1)\n",
        "\n",
        "# extraction de la longueur du sepale length et de la longueur du petale\n",
        "X = df.iloc[0:100, [0, 2]].values\n",
        "\n",
        "# plot data\n",
        "plt.scatter(X[:50, 0], X[:50, 1],\n",
        "            color='red', marker='o', label='setosa')\n",
        "plt.scatter(X[50:100, 0], X[50:100, 1],\n",
        "            color='blue', marker='x', label='versicolor')\n",
        "\n",
        "plt.xlabel('longueur du sepale [cm]')\n",
        "plt.ylabel('longueur du petale [cm]')\n",
        "plt.legend(loc='upper left')\n",
        "\n",
        "plt.show()"
      ],
      "execution_count": null,
      "outputs": [
        {
          "output_type": "display_data",
          "data": {
            "image/png": "[encoded data removed]",
            "text/plain": [
              "<Figure size 432x288 with 1 Axes>"
            ]
          },
          "metadata": {
            "tags": [],
            "needs_background": "light"
          }
        }
      ]
    },
    {
      "cell_type": "code",
      "metadata": {
        "id": "upCJaoC3IYFf"
      },
      "source": [
        "# creation de l'objet Perceptron\n",
        "# apprentissage sur les donnes iris\n",
        "# figure erreurs vs iterations\n"
      ],
      "execution_count": null,
      "outputs": []
    },
    {
      "cell_type": "code",
      "metadata": {
        "id": "ZlXN3vRKIcBa"
      },
      "source": [
        "from matplotlib.colors import ListedColormap\n",
        "\n",
        "\n",
        "def plot_decision_regions(X, y, classifier, resolution=0.02):\n",
        "\n",
        "    markers = ('s', 'x', 'o', '^', 'v')\n",
        "    colors = ('red', 'blue', 'lightgreen', 'gray', 'cyan')\n",
        "    cmap = ListedColormap(colors[:len(np.unique(y))])\n",
        "\n",
        "    x1_min, x1_max = X[:, 0].min() - 1, X[:, 0].max() + 1\n",
        "    x2_min, x2_max = X[:, 1].min() - 1, X[:, 1].max() + 1\n",
        "    xx1, xx2 = np.meshgrid(np.arange(x1_min, x1_max, resolution),\n",
        "                           np.arange(x2_min, x2_max, resolution))\n",
        "    Z = classifier.predict(np.array([xx1.ravel(), xx2.ravel()]).T)\n",
        "    Z = Z.reshape(xx1.shape)\n",
        "    plt.contourf(xx1, xx2, Z, alpha=0.3, cmap=cmap)\n",
        "    plt.xlim(xx1.min(), xx1.max())\n",
        "    plt.ylim(xx2.min(), xx2.max())\n",
        "\n",
        "    for idx, cl in enumerate(np.unique(y)):\n",
        "        plt.scatter(x=X[y == cl, 0], \n",
        "                    y=X[y == cl, 1],\n",
        "                    alpha=0.8, \n",
        "                    c=colors[idx],\n",
        "                    marker=markers[idx], \n",
        "                    label=cl, \n",
        "                    edgecolor='black')"
      ],
      "execution_count": null,
      "outputs": []
    },
    {
      "cell_type": "code",
      "metadata": {
        "id": "fydOsXTAI0eE"
      },
      "source": [
        "# affichage de la frontiere de decision apprise"
      ],
      "execution_count": null,
      "outputs": []
    },
    {
      "cell_type": "markdown",
      "metadata": {
        "id": "t4oRHMCXI4kf"
      },
      "source": [
        "# ADALINE\n",
        "\n",
        "On va implémenter cette fois un Adaline de la même façon.\n",
        "\n",
        "On donne le squelette de la classe AdalineGD.\n",
        "1.   Recopier la fonction predict de la classe Perceptron\n",
        "2.   Compléter l'implémentation de fit (qui permet applique la règle d'Adaline avec une descente de gradient) \n",
        "3.   Créer un objet de type AdalineGD et appliquer la fonction fit. Pour vérifier que l'apprentissage a convergé (en traçant la fonction cout à chaque itération) *Attention* aux choix du learning rate et du nombre d'itérations max.\n",
        "4.   Appliquer le code de visualtion de la frontière de décision à votre adaline. La frontière de décision semble-t-elle correcte ?\n",
        "\n",
        "Bonus : \n",
        "5. standardiser les donnée et appliquer à nouveau votre Adaline.\n",
        "6. QUelles modifications apporter pour utiliser un gradient stochastique dans ADALINE ?"
      ]
    },
    {
      "cell_type": "code",
      "metadata": {
        "id": "4FqUFiLkI9Bc"
      },
      "source": [
        "class AdalineGD(object):\n",
        "    \"\"\"ADAptive LInear NEuron classifier.\n",
        "\n",
        "    Parametres\n",
        "    ------------\n",
        "    eta : float\n",
        "      Learning rate (entre 0.0 et 1.0)\n",
        "    n_iter : int\n",
        "      Nombre de passes sur l'ensemble d'apprentissage.\n",
        "    random_state : int\n",
        "      Graine pour le générateur de nombres pseudo-aléatoire pour \n",
        "      l'initialisation aléatoire des poinds.\n",
        "\n",
        "\n",
        "    Attributs\n",
        "    -----------\n",
        "    w_ : 1d-array\n",
        "      Poids apres l'apprentissage.\n",
        "    cost_ : list\n",
        "      Valeur de la fonction cout a chaque passe (epoch).\n",
        "\n",
        "    \"\"\"\n",
        "    def __init__(self, eta=0.01, n_iter=50, random_state=1):\n",
        "        self.eta = eta\n",
        "        self.n_iter = n_iter\n",
        "        self.random_state = random_state\n",
        "\n",
        "    def fit(self, X, y):\n",
        "        \"\"\"Apprentissage des poids sur les donnees d'apprentissage.\n",
        "\n",
        "        Parameters\n",
        "        ----------\n",
        "        X : {array-like}, shape = [n_examples, n_features]\n",
        "          Exemples d'apprentissages (vecteurs), ou n_examples est le nombre \n",
        "          d'echantillons et n_features est le nombre de variables (features).\n",
        "        y : array-like, shape = [n_examples]\n",
        "          Labels.\n",
        "\n",
        "        Retourne\n",
        "        -------\n",
        "        self : object\n",
        "\n",
        "        \"\"\"\n",
        "\n",
        "        #initialisation des poids aléatoires \n",
        "        rgen = np.random.RandomState(self.random_state)\n",
        "        self.w_ = rgen.normal(loc=0.0, scale=0.01, size=1 + X.shape[1])\n",
        "        self.cost_ = [] # dans cette liste, on stocke la valeur de la fonction cout\n",
        "\n",
        "        # a completer \n",
        "\n",
        "\n",
        "        return self\n",
        "\n",
        "\n",
        "    def net_input(self, X):        \n",
        "        \"\"\"Calcul de la sortie du reseau\"\"\"\n",
        "        # cette fonction permet de calculer le produit scalaire de w et de chaque exemple dans X\n",
        "        #la terminologie est un peu trompeuse ici (mais on verra pourquoi après)\n",
        "        return np.dot(X, self.w_[1:]) + self.w_[0]\n",
        "\n",
        "    def activation(self, X):\n",
        "        \"\"\"Calcul d'une fonction d'activation linéaire (identité)\"\"\"\n",
        "        return X\n",
        "\n",
        "    def predict(self, X):\n",
        "        \"\"\"Classes predites par le reseau (avec les poids courants)\"\"\"\n",
        "        return # a implementer (copié-collé de la classe Perceptron)"
      ],
      "execution_count": null,
      "outputs": []
    },
    {
      "cell_type": "code",
      "metadata": {
        "id": "sVpu2LxIJWwB"
      },
      "source": [
        "# creation de l'objet AdalineGD\n",
        "# apprentissage sur les donnes iris\n",
        "# figure erreurs vs iterations\n",
        "# affichage de la frontiere de decision apprise"
      ],
      "execution_count": null,
      "outputs": []
    },
    {
      "cell_type": "code",
      "metadata": {
        "id": "y7_5qvSbJaBK"
      },
      "source": [
        "# standardiser les données \n",
        "# creation de l'objet AdalineGD\n",
        "# apprentissage sur les donnes iris\n",
        "# figure erreurs vs iterations\n",
        "# affichage de la frontiere de decision apprise"
      ],
      "execution_count": null,
      "outputs": []
    }
  ]
}