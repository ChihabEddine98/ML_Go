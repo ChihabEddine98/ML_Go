{
  "nbformat": 4,
  "nbformat_minor": 0,
  "metadata": {
    "colab": {
      "name": "Copie de Sujet_Perceptron et SVM.ipynb",
      "provenance": [],
      "collapsed_sections": []
    },
    "kernelspec": {
      "name": "python3",
      "display_name": "Python 3"
    }
  },
  "cells": [
    {
      "cell_type": "markdown",
      "metadata": {
        "id": "taddWNGEidvU"
      },
      "source": [
        "# Quelques références \n",
        "\n",
        "\n",
        "*   Généralités sur les SVM :\n",
        "> *   Introduction au Machine Learning (Chloé-Agathe Azencott) - Chap 10\n",
        "* Numpy efficace \n",
        "> * [intro Numpy - S. Raschka](https://sebastianraschka.com/pdf/books/dlb/appendix_f_numpy-intro.pdf)\n",
        "> *[Look Ma, no for-loops](https://realpython.com/numpy-array-programming/)\n",
        "* Pandas \\& Matplotlib\n",
        "> * [Manipulation de données](https://pandas.pydata.org/pandas-docs/stable/10min.html)\n",
        "> * [Représentation des données et figures](http://matplotlib.org/users/beginner.html)"
      ]
    },
    {
      "cell_type": "markdown",
      "metadata": {
        "id": "6MSpAqS3jA_t"
      },
      "source": [
        "## Apprentissage sur la base Iris - limite du perceptron\n",
        "\n",
        "Pour tester la classe implémentée précédemment, on va charger le jeu de données Iris (en se restreignant à deux classes et deux variables).\n",
        "Cette fois, on utilise deux classes qui se recouvrent partiellement.\n",
        "\n",
        "Le code pour charger et afficher ces données est fourni ici.\n",
        "\n",
        "1.   Au vue de la Figure affichée, peut-on espérer que la règle du perceptron converge ? \n",
        "2.   Créer un objet de type Perceptron (de la libraire scikit-learn) et appliquer la fonction fit et afficher la frontière de décision d'un classifieur entraîné.\n",
        "\n",
        "\n",
        "*Remarque * relancer le code en changeant le graine du générateur aléatoire (donné en paramètre du perceptron) et observer la variabilité de la solution. (On comprends alors l'intérêt de fixer la graine d'un générateur pseudo-aléatoire pour la reproductibilité).\n"
      ]
    },
    {
      "cell_type": "code",
      "metadata": {
        "id": "I-BR7eMrj-dU"
      },
      "source": [
        "from matplotlib.colors import ListedColormap\n",
        "\n",
        "\n",
        "def plot_decision_regions(X, y, classifier, resolution=0.02):\n",
        "\n",
        "    markers = ('s', 'x', 'o', '^', 'v')\n",
        "    colors = ('red', 'blue', 'lightgreen', 'gray', 'cyan')\n",
        "    cmap = ListedColormap(colors[:len(np.unique(y))])\n",
        "\n",
        "    x1_min, x1_max = X[:, 0].min() - 1, X[:, 0].max() + 1\n",
        "    x2_min, x2_max = X[:, 1].min() - 1, X[:, 1].max() + 1\n",
        "    xx1, xx2 = np.meshgrid(np.arange(x1_min, x1_max, resolution),\n",
        "                           np.arange(x2_min, x2_max, resolution))\n",
        "    Z = classifier.predict(np.array([xx1.ravel(), xx2.ravel()]).T)\n",
        "    Z = Z.reshape(xx1.shape)\n",
        "    plt.contourf(xx1, xx2, Z, alpha=0.3, cmap=cmap)\n",
        "    plt.xlim(xx1.min(), xx1.max())\n",
        "    plt.ylim(xx2.min(), xx2.max())\n",
        "\n",
        "    for idx, cl in enumerate(np.unique(y)):\n",
        "        plt.scatter(x=X[y == cl, 0], \n",
        "                    y=X[y == cl, 1],\n",
        "                    alpha=0.8, \n",
        "                    c=colors[idx],\n",
        "                    marker=markers[idx], \n",
        "                    label=cl, \n",
        "                    edgecolor='black')"
      ],
      "execution_count": 1,
      "outputs": []
    },
    {
      "cell_type": "code",
      "metadata": {
        "colab": {
          "base_uri": "https://localhost:8080/",
          "height": 296
        },
        "id": "sjbi7W2WH9QG",
        "outputId": "a171fcff-ee2f-42a9-8359-f7c1dae1513d"
      },
      "source": [
        "import os\n",
        "import pandas as pd\n",
        "\n",
        "%matplotlib inline\n",
        "import matplotlib.pyplot as plt\n",
        "import numpy as np\n",
        "\n",
        "\n",
        "s = 'https://archive.ics.uci.edu/ml/machine-learning-databases/iris/iris.data'\n",
        "print('URL:', s)\n",
        "\n",
        "df = pd.read_csv(s,\n",
        "                 header=None,\n",
        "                 encoding='utf-8')\n",
        "\n",
        "# selectionn de setosa et versicolor\n",
        "y = df.iloc[50:150, 4].values\n",
        "\n",
        "# precedemment, on s'interessait à deux autres classes\n",
        "#y = np.where(y == 'Iris-setosa', -1, 1)\n",
        "y = np.where(y == 'Iris-versicolor', -1, 1)\n",
        "\n",
        "# extraction de la longueur du sepale length et de la longueur du petale\n",
        "X = df.iloc[50:150, [0, 2]].values\n",
        "\n",
        "# plot data\n",
        "plt.scatter(X[:50, 0], X[:50, 1],\n",
        "            color='red', marker='o', label='versicolor')\n",
        "plt.scatter(X[50:100, 0], X[50:100, 1],\n",
        "            color='blue', marker='x', label='virginica')\n",
        "\n",
        "plt.xlabel('longueur du sepale [cm]')\n",
        "plt.ylabel('longueur du petale [cm]')\n",
        "plt.legend(loc='upper left')\n",
        "\n",
        "plt.show()"
      ],
      "execution_count": 2,
      "outputs": [
        {
          "output_type": "stream",
          "text": [
            "URL: https://archive.ics.uci.edu/ml/machine-learning-databases/iris/iris.data\n"
          ],
          "name": "stdout"
        },
        {
          "output_type": "display_data",
          "data": {
            "image/png": "[encoded data removed]",
            "text/plain": [
              "<Figure size 432x288 with 1 Axes>"
            ]
          },
          "metadata": {
            "tags": [],
            "needs_background": "light"
          }
        }
      ]
    },
    {
      "cell_type": "markdown",
      "metadata": {
        "id": "H_kCMO62N0cq"
      },
      "source": [
        ""
      ]
    },
    {
      "cell_type": "code",
      "metadata": {
        "id": "guNUT7x4Leed"
      },
      "source": [
        "## création d'un perceptron\n",
        "from sklearn.linear_model import Perceptron\n",
        "ppn = Perceptron(tol=1 , random_state = 3)"
      ],
      "execution_count": 13,
      "outputs": []
    },
    {
      "cell_type": "code",
      "metadata": {
        "id": "Ay9eRKWJLivk",
        "colab": {
          "base_uri": "https://localhost:8080/"
        },
        "outputId": "bb59d5ed-ed40-4086-ca77-0abeb42db2a3"
      },
      "source": [
        "# entrainez le perceptron\n",
        "# Train the model \n",
        "ppn.fit(X,y)"
      ],
      "execution_count": 14,
      "outputs": [
        {
          "output_type": "execute_result",
          "data": {
            "text/plain": [
              "Perceptron(alpha=0.0001, class_weight=None, early_stopping=False, eta0=1.0,\n",
              "           fit_intercept=True, max_iter=1000, n_iter_no_change=5, n_jobs=None,\n",
              "           penalty=None, random_state=3, shuffle=True, tol=1,\n",
              "           validation_fraction=0.1, verbose=0, warm_start=False)"
            ]
          },
          "metadata": {
            "tags": []
          },
          "execution_count": 14
        }
      ]
    },
    {
      "cell_type": "code",
      "metadata": {
        "id": "jd_MKuoQLtFc",
        "colab": {
          "base_uri": "https://localhost:8080/",
          "height": 265
        },
        "outputId": "2cf32f25-f0ee-47a8-f604-2870e53b1a7a"
      },
      "source": [
        "# affichez la frontière de décision\r\n",
        "plot_decision_regions(X,y,ppn)"
      ],
      "execution_count": 15,
      "outputs": [
        {
          "output_type": "display_data",
          "data": {
            "image/png": "[encoded data removed]",
            "text/plain": [
              "<Figure size 432x288 with 1 Axes>"
            ]
          },
          "metadata": {
            "tags": [],
            "needs_background": "light"
          }
        }
      ]
    },
    {
      "cell_type": "markdown",
      "metadata": {
        "id": "NMM-uOtRo590"
      },
      "source": [
        "## Apprentissage sur la base Iris - cas du SVM\n",
        "1. Appliquer un SVM linéaire sur ces données et afficher la frontière de décision.\n",
        "3. Créer une fonction 'accuracy' qui prend en entrée un jeu de données et un classifieur, et qui retourne la précision du classifieur (# d'entrées bien classifiées / # total d'entrées)\n",
        "4. Utiliser la fonction accuracy pour retourner la valeur de C la meilleure pour le jeu de données.\n",
        "5. Comparez avec l'accuracy du perceptron.\n",
        "6. Comparez les temps de calcul des deux méthodes"
      ]
    },
    {
      "cell_type": "code",
      "metadata": {
        "id": "FDmgR2sFR-xe"
      },
      "source": [
        ""
      ],
      "execution_count": 5,
      "outputs": []
    },
    {
      "cell_type": "code",
      "metadata": {
        "id": "zY8fr6i0XxgH"
      },
      "source": [
        "from sklearn.svm import SVC\n",
        "\n"
      ],
      "execution_count": 6,
      "outputs": []
    },
    {
      "cell_type": "markdown",
      "metadata": {
        "id": "4WCXw_mIN2sl"
      },
      "source": [
        "## Apprentissage sur données générées par sklearn\n",
        "\n",
        "1. Génerez et représentez lenuage de points correspondant au jeu de données généré par la fonction make_circles.\n",
        "2. Entrainez un perceptron et un SVM linéaire sur les données générées, et retournez leurs précisions avec la méthode accuracy.\n",
        "."
      ]
    },
    {
      "cell_type": "code",
      "metadata": {
        "id": "IthchE-QOgZ0",
        "colab": {
          "base_uri": "https://localhost:8080/",
          "height": 34
        },
        "outputId": "db280121-cf03-4d01-e3aa-baa364fd6cad"
      },
      "source": [
        "from sklearn.datasets import make_circles\n",
        "\n",
        "X,y=make_circles()\n",
        "plt.clf()\n",
        "\n",
        "# Repésentez le nuage de points du jeu de données"
      ],
      "execution_count": 7,
      "outputs": [
        {
          "output_type": "display_data",
          "data": {
            "text/plain": [
              "<Figure size 432x288 with 0 Axes>"
            ]
          },
          "metadata": {
            "tags": []
          }
        }
      ]
    },
    {
      "cell_type": "code",
      "metadata": {
        "id": "MeAQ0AozR_t0"
      },
      "source": [
        "# Entrainez les deux classifieurs sur le jeu de données en retournez leurs accuracy \n",
        "# (spoiler alert : les classifieurs ne marchent pas du tout !)"
      ],
      "execution_count": 8,
      "outputs": []
    }
  ]
}