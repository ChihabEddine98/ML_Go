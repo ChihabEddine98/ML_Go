{
  "nbformat": 4,
  "nbformat_minor": 0,
  "metadata": {
    "colab": {
      "name": "TP5.ipynb",
      "provenance": [],
      "collapsed_sections": []
    },
    "kernelspec": {
      "name": "python3",
      "display_name": "Python 3"
    }
  },
  "cells": [
    {
      "cell_type": "code",
      "metadata": {
        "id": "Pkvi9w1oATBr"
      },
      "source": [
        "# Imports\n",
        "import os\n",
        "import pandas as pd\n",
        "\n",
        "%matplotlib inline\n",
        "import matplotlib.pyplot as plt\n",
        "import numpy as np\n",
        "from sklearn.svm import SVC"
      ],
      "execution_count": null,
      "outputs": []
    },
    {
      "cell_type": "code",
      "metadata": {
        "colab": {
          "base_uri": "https://localhost:8080/",
          "height": 296
        },
        "id": "mNta8QlbAUlL",
        "outputId": "305c7cc5-b6d2-4a9f-82dd-09e2d9cb3188"
      },
      "source": [
        "s = 'https://archive.ics.uci.edu/ml/machine-learning-databases/iris/iris.data'\n",
        "print('URL:', s)\n",
        "\n",
        "df = pd.read_csv(s,\n",
        "                 header=None,\n",
        "                 encoding='utf-8')\n",
        "\n",
        "# selectionn de setosa et versicolor\n",
        "y = df.iloc[50:150, 4].values\n",
        "\n",
        "# precedemment, on s'interessait à deux autres classes\n",
        "#y = np.where(y == 'Iris-setosa', -1, 1)\n",
        "y = np.where(y == 'Iris-versicolor', -1, 1)\n",
        "\n",
        "# extraction de la longueur du sepale length et de la longueur du petale\n",
        "X = df.iloc[50:150, [0, 2]].values\n",
        "\n",
        "# plot data\n",
        "plt.scatter(X[:50, 0], X[:50, 1],\n",
        "            color='red', marker='o', label='versicolor')\n",
        "plt.scatter(X[50:100, 0], X[50:100, 1],\n",
        "            color='blue', marker='x', label='virginica')\n",
        "\n",
        "plt.xlabel('longueur du sepale [cm]')\n",
        "plt.ylabel('longueur du petale [cm]')\n",
        "plt.legend(loc='upper left')\n",
        "\n",
        "plt.show()"
      ],
      "execution_count": null,
      "outputs": [
        {
          "output_type": "stream",
          "text": [
            "URL: https://archive.ics.uci.edu/ml/machine-learning-databases/iris/iris.data\n"
          ],
          "name": "stdout"
        },
        {
          "output_type": "display_data",
          "data": {
            "image/png": "[encoded data removed]",
            "text/plain": [
              "<Figure size 432x288 with 1 Axes>"
            ]
          },
          "metadata": {
            "tags": [],
            "needs_background": "light"
          }
        }
      ]
    },
    {
      "cell_type": "markdown",
      "metadata": {
        "id": "8PBFqGIqAaDP"
      },
      "source": [
        "##I Fuites de données\n",
        "\n",
        "1.   Détecter (et corriger) la fuite de données dans les deux portions de code suivantes. \n",
        "2.   En vous inspirant de ces codes (après les avoir corrigé), implémenter un méthode de validation croisée (à n-fold) pour estimer les performances en généralisation d'un SVM (avec ses paramètres par défaut) sur des données standardisées.\n"
      ]
    },
    {
      "cell_type": "code",
      "metadata": {
        "colab": {
          "base_uri": "https://localhost:8080/"
        },
        "id": "OsxCRlq-Aayt",
        "outputId": "b309974a-771a-41eb-8579-458fe12c88f5"
      },
      "source": [
        "# premier exemple de fuite de données\n",
        "\n",
        "from sklearn.preprocessing import StandardScaler\n",
        "\n",
        "np.random.seed(seed=42)\n",
        "\n",
        "# separation des données d'apprentissage et de test\n",
        "n=X.shape[0]\n",
        "sep=np.ones((n))\n",
        "sep[0:int(2*n/5)]=0\n",
        "np.random.shuffle(sep)\n",
        "\n",
        "X_train = X[sep==0]\n",
        "y_train = y[sep==0]\n",
        "X_test = X[sep==1]\n",
        "y_test = y[sep==1]\n",
        "\n",
        "#standardisation des données\n",
        "scaler = StandardScaler()\n",
        "X_train = scaler.fit_transform(X_train)\n",
        "X_test = scaler.transform(X_test)\n",
        "\n",
        "# application du classifieur et calcul du taux de bonne classification\n",
        "svm1=SVC(C=50)\n",
        "svm1.fit(X_train,y_train)\n",
        "\n",
        "y_pred= svm1.predict(X_test)\n",
        "print('accuracy = ',np.sum(y_test==y_pred)/y_pred.shape[0])"
      ],
      "execution_count": null,
      "outputs": [
        {
          "output_type": "stream",
          "text": [
            "accuracy =  0.8\n"
          ],
          "name": "stdout"
        }
      ]
    },
    {
      "cell_type": "code",
      "metadata": {
        "colab": {
          "base_uri": "https://localhost:8080/"
        },
        "id": "2Cdh98COAhVb",
        "outputId": "c2cbc49d-7fcc-4003-b976-d9d3aa2f1f30"
      },
      "source": [
        "# deuxieme exemple de fuite de données\n",
        "\n",
        "np.random.seed(seed=31)\n",
        "\n",
        "def Separateur(X,y):\n",
        "  n=X.shape[0]\n",
        "  sep=np.ones((n))\n",
        "  sep[0:int(n/5)]=0\n",
        "  np.random.shuffle(sep)\n",
        "  X_test=X[sep==1]\n",
        "  X_train=X[sep==0]\n",
        "  y_test=y[sep==1]\n",
        "  y_train=y[sep==0]\n",
        "  return X_train,y_train,X_test,y_test\n",
        "\n",
        "# separation des données d'apprentissage et de test\n",
        "X_train,y_train,X_test,y_test=Separateur(X,y)\n",
        "\n",
        "\n",
        "svm1=SVC(C=50)\n",
        "svm1.fit(X_train,y_train)\n",
        "\n",
        "y_pred= svm1.predict(X_test)\n",
        "print('accuracy = ',np.sum(y_test==y_pred)/y_pred.shape[0])"
      ],
      "execution_count": null,
      "outputs": [
        {
          "output_type": "stream",
          "text": [
            "accuracy =  0.875\n"
          ],
          "name": "stdout"
        }
      ]
    },
    {
      "cell_type": "code",
      "metadata": {
        "id": "KsSXy3ezBg3-"
      },
      "source": [
        "# validation croisée LOO & standardisation\n",
        "\n",
        "\n"
      ],
      "execution_count": null,
      "outputs": []
    },
    {
      "cell_type": "markdown",
      "metadata": {
        "id": "IE8ojjv_B9AQ"
      },
      "source": [
        "##II Données désequilibrées et multi-classe\n",
        "\n",
        "1.   Entraîner un SVM (avec les paramètres par défaut) pour discriminer la classe *'Iris-setosa'* contre les deux autres.\n",
        "2.   En partant de ce code, créer un classifieur multiclasse (en utilisant la stratégie \"One vs All\").\n",
        "\n",
        "\n"
      ]
    },
    {
      "cell_type": "code",
      "metadata": {
        "colab": {
          "base_uri": "https://localhost:8080/"
        },
        "id": "y8fyjO5aB8SI",
        "outputId": "a5bfb1ea-4f39-4bad-b158-0c00e88104e9"
      },
      "source": [
        "# SVM classe 1 vs (2&3)\n",
        "\n",
        "s = 'https://archive.ics.uci.edu/ml/machine-learning-databases/iris/iris.data'\n",
        "print('URL:', s)\n",
        "\n",
        "df = pd.read_csv(s,header=None,encoding='utf-8')\n",
        "\n",
        "# selectionn de setosa et versicolor\n",
        "y = df.iloc[0:150, 4].values\n",
        "\n",
        "# precedemment, on s'interessait à deux autres classes\n",
        "y = np.where(y == 'Iris-setosa', 1, y)\n",
        "y = np.where(y == 'Iris-versicolor', 2, y)\n",
        "y = np.where(y == 'Iris-virginica', 3, y)\n",
        "\n",
        "# extraction de la longueur du sepale length et de la longueur du petale\n",
        "X = df.iloc[0:150, [0, 2]].values\n",
        "\n",
        "X_train,y_train,X_test,y_test=Separateur(X,y)\n",
        "\n",
        "y1vsall_train = np.where(y_train ==1, 1, -1)\n",
        "y1vsall_test = np.where(y_test ==1, 1, -1)\n",
        "\n",
        "svm1vsall=SVC(C=50)\n",
        "svm1vsall.fit(X_train,y1vsall_train)\n",
        "\n",
        "y_pred = svm1vsall.predict(X_test)\n",
        "\n",
        "print('accuracy = ', np.sum(y1vsall_test==y_pred)/y_pred.shape[0])\n"
      ],
      "execution_count": null,
      "outputs": [
        {
          "output_type": "stream",
          "text": [
            "URL: https://archive.ics.uci.edu/ml/machine-learning-databases/iris/iris.data\n",
            "accuracy =  1.0\n"
          ],
          "name": "stdout"
        }
      ]
    },
    {
      "cell_type": "code",
      "metadata": {
        "colab": {
          "base_uri": "https://localhost:8080/"
        },
        "id": "N1CL952rCbvS",
        "outputId": "901a7297-21a9-40a5-ed2e-0f36e2f5159f"
      },
      "source": [
        "# SVM multi-classe - OVA \n",
        "# /!\\ (pour cela, on regardera dans la documentation commment convertir la sortie du SVM en probabilité)\n",
        "\n",
        "y_proba_ova = np.zeros((X_test.shape[0],3))\n",
        "\n",
        "for i in range(0,3):\n",
        "  y1vsall_train = np.where(y_train ==i+1, 1, -1)\n",
        "  y1vsall_test = np.where(y_test ==i+1, 1, -1)\n",
        "\n",
        "  svm1vsall=SVC(C=50, probability=True)\n",
        "  svm1vsall.fit(X_train,y1vsall_train)\n",
        "\n",
        "  y_proba = svm1vsall.predict_proba(X_test) \n",
        "\n",
        "  y_proba_ova[:,i]=y_proba[:,1]\n",
        "\n",
        "ypred=np.argmax(y_proba_ova, axis=1)+1\n",
        "\n",
        "print('accuracy = ', np.sum(y_test==ypred)/ypred.shape[0])\n",
        "\n",
        "\n"
      ],
      "execution_count": null,
      "outputs": [
        {
          "output_type": "stream",
          "text": [
            "accuracy =  0.9583333333333334\n"
          ],
          "name": "stdout"
        }
      ]
    }
  ]
}