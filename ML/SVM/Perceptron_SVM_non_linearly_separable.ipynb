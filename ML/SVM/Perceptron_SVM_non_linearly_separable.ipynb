{
 "cells": [
  {
   "cell_type": "markdown",
   "metadata": {
    "id": "taddWNGEidvU"
   },
   "source": [
    "# Quelques références \n",
    "\n",
    "\n",
    "*   Généralités sur les SVM :\n",
    "> *   Introduction au Machine Learning (Chloé-Agathe Azencott) - Chap 10\n",
    "* Numpy efficace \n",
    "> * [intro Numpy - S. Raschka](https://sebastianraschka.com/pdf/books/dlb/appendix_f_numpy-intro.pdf)\n",
    "> *[Look Ma, no for-loops](https://realpython.com/numpy-array-programming/)\n",
    "* Pandas \\& Matplotlib\n",
    "> * [Manipulation de données](https://pandas.pydata.org/pandas-docs/stable/10min.html)\n",
    "> * [Représentation des données et figures](http://matplotlib.org/users/beginner.html)"
   ]
  },
  {
   "cell_type": "markdown",
   "metadata": {
    "id": "6MSpAqS3jA_t"
   },
   "source": [
    "## Apprentissage sur la base Iris - limite du perceptron\n",
    "\n",
    "Pour tester la classe implémentée précédemment, on va charger le jeu de données Iris (en se restreignant à deux classes et deux variables).\n",
    "Cette fois, on utilise deux classes qui se recouvrent partiellement.\n",
    "\n",
    "Le code pour charger et afficher ces données est fourni ici.\n",
    "\n",
    "1.   Au vue de la Figure affichée, peut-on espérer que la règle du perceptron converge ? \n",
    "2.   Créer un objet de type Perceptron (de la libraire scikit-learn) et appliquer la fonction fit et afficher la frontière de décision d'un classifieur entraîné.\n",
    "\n",
    "\n",
    "*Remarque * relancer le code en changeant le graine du générateur aléatoire (donné en paramètre du perceptron) et observer la variabilité de la solution. (On comprends alors l'intérêt de fixer la graine d'un générateur pseudo-aléatoire pour la reproductibilité).\n"
   ]
  },
  {
   "cell_type": "code",
   "execution_count": 1,
   "metadata": {
    "id": "I-BR7eMrj-dU"
   },
   "outputs": [],
   "source": [
    "from matplotlib.colors import ListedColormap\n",
    "\n",
    "\n",
    "def plot_decision_regions(X, y, classifier, resolution=0.02):\n",
    "\n",
    "    markers = ('s', 'x', 'o', '^', 'v')\n",
    "    colors = ('red', 'blue', 'lightgreen', 'gray', 'cyan')\n",
    "    cmap = ListedColormap(colors[:len(np.unique(y))])\n",
    "\n",
    "    x1_min, x1_max = X[:, 0].min() - 1, X[:, 0].max() + 1\n",
    "    x2_min, x2_max = X[:, 1].min() - 1, X[:, 1].max() + 1\n",
    "    xx1, xx2 = np.meshgrid(np.arange(x1_min, x1_max, resolution),\n",
    "                           np.arange(x2_min, x2_max, resolution))\n",
    "    Z = classifier.predict(np.array([xx1.ravel(), xx2.ravel()]).T)\n",
    "    Z = Z.reshape(xx1.shape)\n",
    "    plt.contourf(xx1, xx2, Z, alpha=0.3, cmap=cmap)\n",
    "    plt.xlim(xx1.min(), xx1.max())\n",
    "    plt.ylim(xx2.min(), xx2.max())\n",
    "\n",
    "    for idx, cl in enumerate(np.unique(y)):\n",
    "        plt.scatter(x=X[y == cl, 0], \n",
    "                    y=X[y == cl, 1],\n",
    "                    alpha=0.8, \n",
    "                    c=colors[idx],\n",
    "                    marker=markers[idx], \n",
    "                    label=cl, \n",
    "                    edgecolor='black')"
   ]
  },
  {
   "cell_type": "code",
   "execution_count": 2,
   "metadata": {
    "colab": {
     "base_uri": "https://localhost:8080/",
     "height": 296
    },
    "id": "sjbi7W2WH9QG",
    "outputId": "a171fcff-ee2f-42a9-8359-f7c1dae1513d"
   },
   "outputs": [
    {
     "name": "stdout",
     "output_type": "stream",
     "text": [
      "URL: https://archive.ics.uci.edu/ml/machine-learning-databases/iris/iris.data\n"
     ]
    },
    {
     "data": {
      "text/plain": "<Figure size 432x288 with 1 Axes>",
      "image/png": "[encoded data removed]"
     },
     "metadata": {
      "needs_background": "light"
     },
     "output_type": "display_data"
    }
   ],
   "source": [
    "import pandas as pd\n",
    "\n",
    "%matplotlib inline\n",
    "import matplotlib.pyplot as plt\n",
    "import numpy as np\n",
    "import ssl\n",
    "\n",
    "ssl._create_default_https_context = ssl._create_unverified_context\n",
    "\n",
    "\n",
    "s = 'https://archive.ics.uci.edu/ml/machine-learning-databases/iris/iris.data'\n",
    "print('URL:', s)\n",
    "\n",
    "df = pd.read_csv(s,\n",
    "                 header=None,\n",
    "                 encoding='utf-8')\n",
    "\n",
    "# selectionn de setosa et versicolor\n",
    "y = df.iloc[50:150, 4].values\n",
    "\n",
    "# precedemment, on s'interessait à deux autres classes\n",
    "#y = np.where(y == 'Iris-setosa', -1, 1)\n",
    "y = np.where(y == 'Iris-versicolor', -1, 1)\n",
    "\n",
    "# extraction de la longueur du sepale length et de la longueur du petale\n",
    "X = df.iloc[50:150, [0, 2]].values\n",
    "\n",
    "# plot data\n",
    "plt.scatter(X[:50, 0], X[:50, 1],\n",
    "            color='red', marker='o', label='versicolor')\n",
    "plt.scatter(X[50:100, 0], X[50:100, 1],\n",
    "            color='blue', marker='x', label='virginica')\n",
    "\n",
    "plt.xlabel('longueur du sepale [cm]')\n",
    "plt.ylabel('longueur du petale [cm]')\n",
    "plt.legend(loc='upper left')\n",
    "\n",
    "plt.show()"
   ]
  },
  {
   "cell_type": "markdown",
   "metadata": {
    "id": "H_kCMO62N0cq"
   },
   "source": []
  },
  {
   "cell_type": "code",
   "execution_count": 3,
   "metadata": {
    "id": "guNUT7x4Leed"
   },
   "outputs": [],
   "source": [
    "## création d'un perceptron\n",
    "from sklearn.linear_model import Perceptron\n",
    "ppn = Perceptron(tol=1 , random_state = 3)"
   ]
  },
  {
   "cell_type": "code",
   "execution_count": 4,
   "metadata": {
    "colab": {
     "base_uri": "https://localhost:8080/"
    },
    "id": "Ay9eRKWJLivk",
    "outputId": "bb59d5ed-ed40-4086-ca77-0abeb42db2a3"
   },
   "outputs": [
    {
     "data": {
      "text/plain": "Perceptron(random_state=3, tol=1)"
     },
     "execution_count": 4,
     "metadata": {},
     "output_type": "execute_result"
    }
   ],
   "source": [
    "# entrainez le perceptron\n",
    "# Train the model \n",
    "ppn.fit(X,y)"
   ]
  },
  {
   "cell_type": "code",
   "execution_count": 5,
   "metadata": {
    "colab": {
     "base_uri": "https://localhost:8080/",
     "height": 265
    },
    "id": "jd_MKuoQLtFc",
    "outputId": "2cf32f25-f0ee-47a8-f604-2870e53b1a7a"
   },
   "outputs": [
    {
     "data": {
      "text/plain": "<Figure size 432x288 with 1 Axes>",
      "image/png": "[encoded data removed]"
     },
     "metadata": {
      "needs_background": "light"
     },
     "output_type": "display_data"
    }
   ],
   "source": [
    "# affichez la frontière de décision\r\n",
    "plot_decision_regions(X,y,ppn)"
   ]
  },
  {
   "cell_type": "markdown",
   "metadata": {
    "id": "NMM-uOtRo590"
   },
   "source": [
    "## Apprentissage sur la base Iris - cas du SVM\n",
    "1. Appliquer un SVM linéaire sur ces données et afficher la frontière de décision.\n",
    "3. Créer une fonction 'accuracy' qui prend en entrée un jeu de données et un classifieur, et qui retourne la précision du classifieur (# d'entrées bien classifiées / # total d'entrées)\n",
    "4. Utiliser la fonction accuracy pour retourner la valeur de C la meilleure pour le jeu de données.\n",
    "5. Comparez avec l'accuracy du perceptron.\n",
    "6. Comparez les temps de calcul des deux méthodes"
   ]
  },
  {
   "cell_type": "code",
   "execution_count": 5,
   "metadata": {
    "id": "FDmgR2sFR-xe"
   },
   "outputs": [],
   "source": []
  },
  {
   "cell_type": "code",
   "execution_count": 6,
   "metadata": {
    "id": "zY8fr6i0XxgH"
   },
   "outputs": [
    {
     "data": {
      "text/plain": "<Figure size 432x288 with 1 Axes>",
      "image/png": "[encoded data removed]"
     },
     "metadata": {
      "needs_background": "light"
     },
     "output_type": "display_data"
    }
   ],
   "source": [
    "from sklearn.svm import SVC\n",
    "svc = SVC(C=20,kernel='linear')\n",
    "# Train SVC\n",
    "svc.fit(X,y)\n",
    "# plot decision boundry \n",
    "plot_decision_regions(X,y,svc)"
   ]
  },
  {
   "cell_type": "markdown",
   "metadata": {
    "id": "4WCXw_mIN2sl"
   },
   "source": [
    "## Apprentissage sur données générées par sklearn\n",
    "\n",
    "1. Génerez et représentez lenuage de points correspondant au jeu de données généré par la fonction make_circles.\n",
    "2. Entrainez un perceptron et un SVM linéaire sur les données générées, et retournez leurs précisions avec la méthode accuracy.\n",
    "."
   ]
  },
  {
   "cell_type": "code",
   "execution_count": 7,
   "metadata": {},
   "outputs": [
    {
     "name": "stdout",
     "output_type": "stream",
     "text": [
      "Perceptron score : 0.91\n",
      "Ellapsed time [PPN]: 0.002524852752685547\n",
      "SVM score : 0.93\n",
      "Ellapsed time [SVM]: 0.0013871192932128906\n"
     ]
    }
   ],
   "source": [
    "import time\n",
    "# Accuracy function \n",
    "\n",
    "def accuracy(X,y,classifier):\n",
    "    return (y == classifier.fit(X,y).predict(X)).sum() / y.shape[0]\n",
    "\n",
    "# train perceptron \n",
    "tic = time.time()\n",
    "ppn.fit(X,y)\n",
    "print(f'Perceptron score : {accuracy(X,y,ppn)}')\n",
    "toc = time.time()\n",
    "print(f'Ellapsed time [PPN]: {toc-tic}')\n",
    "\n",
    "# train svm \n",
    "tic = time.time()\n",
    "svc.fit(X,y)\n",
    "print(f'SVM score : {accuracy(X,y,svc)}')\n",
    "toc = time.time()\n",
    "print(f'Ellapsed time [SVM]: {toc-tic}')"
   ]
  },
  {
   "cell_type": "code",
   "execution_count": 8,
   "metadata": {},
   "outputs": [
    {
     "name": "stdout",
     "output_type": "stream",
     "text": [
      "[SVM] accuracy : [0.83, 0.83, 0.91, 0.93, 0.94, 0.95, 0.94, 0.95, 0.93, 0.95]\n",
      "[PPN] accuracy : [0.8, 0.91, 0.73, 0.92, 0.55, 0.91, 0.88, 0.8, 0.55, 0.65]\n"
     ]
    }
   ],
   "source": [
    "# Find best accuracy \n",
    "\n",
    "cs = [1e-5,1e-4,5e-2,1,2,3,5,10,20,100]\n",
    "accuracies_svm = [accuracy(X,y,SVC(kernel='linear',C=c_i)) for c_i in cs]\n",
    "print(f'[SVM] accuracy : {accuracies_svm}')\n",
    "accuracies_ppn = [accuracy(X,y,Perceptron(random_state=i)) for i in range(10)]\n",
    "print(f'[PPN] accuracy : {accuracies_ppn}')\n"
   ]
  },
  {
   "cell_type": "code",
   "execution_count": 9,
   "metadata": {
    "colab": {
     "base_uri": "https://localhost:8080/",
     "height": 34
    },
    "id": "IthchE-QOgZ0",
    "outputId": "db280121-cf03-4d01-e3aa-baa364fd6cad"
   },
   "outputs": [
    {
     "data": {
      "text/plain": "<Figure size 432x288 with 1 Axes>",
      "image/png": "[encoded data removed]"
     },
     "metadata": {
      "needs_background": "light"
     },
     "output_type": "display_data"
    },
    {
     "data": {
      "text/plain": "<Figure size 432x288 with 1 Axes>",
      "image/png": "[encoded data removed]"
     },
     "metadata": {
      "needs_background": "light"
     },
     "output_type": "display_data"
    }
   ],
   "source": [
    "from sklearn.datasets import make_circles\n",
    "import pandas as pd\n",
    "\n",
    "X,y=make_circles()\n",
    "\n",
    "# Méthode 01 :\n",
    "# Repésentez le nuage de points du jeu de données\n",
    "data = pd.DataFrame({\"longeur_sepal\": X[:,0],\"largeur_sepal\":X[:,1], \"y\": y})\n",
    "groups = data.groupby(\"y\")\n",
    "for name, group in groups:\n",
    "    plt.plot(group[\"longeur_sepal\"], group[\"largeur_sepal\"], marker=\"o\", linestyle=\"\", label=name)\n",
    "plt.legend()\n",
    "plt.show()\n",
    "\n",
    "# Méthode 02 :\n",
    "# Repésentez le nuage de points du jeu de données\n",
    "plt.clf()\n",
    "plt.scatter(X[y==0][:,0],X[y==0][:,1],color='red',marker='o')\n",
    "plt.scatter(X[y==1][:,0],X[y==1][:,1],color='blue',marker='x')\n",
    "plt.show()\n",
    "\n",
    "\n",
    "\n",
    "\n"
   ]
  },
  {
   "cell_type": "code",
   "execution_count": 10,
   "metadata": {
    "id": "MeAQ0AozR_t0"
   },
   "outputs": [
    {
     "data": {
      "text/plain": "<Figure size 432x288 with 1 Axes>",
      "image/png": "[encoded data removed]"
     },
     "metadata": {
      "needs_background": "light"
     },
     "output_type": "display_data"
    }
   ],
   "source": [
    "# Entrainez les deux classifieurs sur le jeu de données en retournez leurs accuracy \n",
    "# (spoiler alert : les classifieurs ne marchent pas du tout !)\n",
    "# Init model \n",
    "svc = SVC()\n",
    "# Train SVC\n",
    "svc.fit(X,y)\n",
    "\n",
    "\n",
    "# plot decision boundry \n",
    "plot_decision_regions(X,y,svc)\n",
    "\n",
    "\n"
   ]
  },
  {
   "cell_type": "code",
   "execution_count": 10,
   "metadata": {},
   "outputs": [],
   "source": [
    "\n",
    "\n"
   ]
  }
 ],
 "metadata": {
  "colab": {
   "collapsed_sections": [],
   "name": "Copie de Sujet_Perceptron et SVM.ipynb",
   "provenance": []
  },
  "kernelspec": {
   "display_name": "Python 3",
   "language": "python",
   "name": "python3"
  },
  "language_info": {}
 },
 "nbformat": 4,
 "nbformat_minor": 0
}