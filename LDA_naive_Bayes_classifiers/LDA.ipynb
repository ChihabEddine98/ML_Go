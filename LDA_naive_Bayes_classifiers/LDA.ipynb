{
 "nbformat": 4,
 "nbformat_minor": 0,
 "metadata": {
  "colab": {
   "name": "lda.ipynb",
   "provenance": [],
   "collapsed_sections": [],
   "authorship_tag": "ABX9TyMhytPAaVSeYdCYGR6/PMx5",
   "include_colab_link": true
  },
  "kernelspec": {
   "name": "python3",
   "language": "python",
   "display_name": "Python 3"
  }
 },
 "cells": [
  {
   "cell_type": "markdown",
   "metadata": {
    "id": "view-in-github",
    "colab_type": "text"
   },
   "source": [
    "<a href=\"https://colab.research.google.com/github/ChihabEddine98/ML_Go/blob/master/LDA_naive_Bayes_classifiers/lda.ipynb\" target=\"_parent\"><img src=\"https://colab.research.google.com/assets/colab-badge.svg\" alt=\"Open In Colab\"/></a>"
   ]
  },
  {
   "cell_type": "code",
   "metadata": {
    "id": "Xc7hBGPwvjdr"
   },
   "source": [
    "# Imports\r\n",
    "import numpy as np\r\n",
    "import matplotlib.pyplot as plt\r\n",
    "# End Imports"
   ],
   "execution_count": 1,
   "outputs": []
  },
  {
   "cell_type": "code",
   "metadata": {
    "colab": {
     "base_uri": "https://localhost:8080/",
     "height": 567
    },
    "id": "8FLJV5WSv-p1",
    "outputId": "3d24aa5e-2f20-41b3-f523-2925b0e45fed"
   },
   "source": [
    "# dataset\r\n",
    "X = np.array([[30,65],\r\n",
    "     [25,80],\r\n",
    "     [35,60],\r\n",
    "     [30,55],\r\n",
    "     [25,50],\r\n",
    "     [20,60],\r\n",
    "     [30,40],])\r\n",
    "\r\n",
    "y = np.concatenate([np.ones((4,1)),np.zeros((3,1))], axis = 0)\r\n",
    "\r\n",
    "nb_0 = 3\r\n",
    "nb_1 = 4\r\n",
    "\r\n",
    "# Plot data\r\n",
    "plt.plot(X[:nb_1,0],X[:nb_1,1],'ro',label = 'Non conforme')\r\n",
    "plt.plot(X[nb_1:,0],X[nb_1:,1],'bo',label = 'Conforme')\r\n",
    "plt.legend()\r\n",
    "\r\n",
    "\r\n",
    "# mu_0 , mu_1 , pi_0 , pi_1\r\n",
    "pi_0 , pi_1 = nb_0/(nb_0+nb_1) , 1-nb_0/(nb_0+nb_1)\r\n",
    "mu_0 = np.array([X[nb_1:,0].mean(),X[nb_1:,1].mean()])[np.newaxis].T\r\n",
    "mu_1 = np.array([X[:nb_1,0].mean(),X[:nb_1,1].mean()])[np.newaxis].T\r\n",
    "\r\n",
    "\r\n",
    "# arr_sum_0 = Sum ( (x_i - mu_0)(x_i-mu_0)^T where class == 0 )\r\n",
    "arr_sum_0 = np.array([list((x_i-mu_0).dot((x_i-mu_0).T)) for x_i in X[nb_1:]]) \r\n",
    "# arr_sum_1 = Sum ( (x_i - mu_1)(x_i-mu_1)^T where class == 1 )\r\n",
    "arr_sum_1 = np.array([list((x_i-mu_1).dot((x_i-mu_1).T)) for x_i in X[:nb_1]]) \r\n",
    "print(arr_sum_0)\r\n",
    "\r\n",
    " \r\n",
    "sigma_0 = (1/nb_0) * arr_sum_0.sum(axis=0)\r\n",
    "sigma_1 = (1/nb_1) * arr_sum_1.sum(axis=0)\r\n",
    "\r\n",
    "print(f' mu_0 : {mu_0.T}\\n mu_1 : {mu_1.T}')\r\n",
    "print(f' sigma_0 : {sigma_0}\\n sigma_1 : {sigma_1}')\r\n",
    "\r\n",
    "\r\n",
    "x = np.array([-5,-10])[np.newaxis]\r\n",
    "y= x.T\r\n",
    "A = 25/7*np.array([[4,-5],[-5,22]])\r\n",
    "B = np.linalg.inv(A)\r\n",
    "mu_0 = np.array([25,50])[np.newaxis].T\r\n",
    "mu_1 = np.array([30,65])[np.newaxis].T\r\n",
    "a = B.dot(mu_1 - mu_0) \r\n",
    "print(a)\r\n",
    "\r\n",
    "A = 1/3 * np.eye(2)\r\n",
    "B= np.linalg.inv(A)\r\n",
    "B"
   ],
   "execution_count": 3,
   "outputs": [
    {
     "name": "stdout",
     "output_type": "stream",
     "text": [
      "[[[ 625.    0.]\n",
      "  [   0.  625.]]\n",
      "\n",
      " [[1250.  500.]\n",
      "  [ 500. 1000.]]\n",
      "\n",
      " [[ 250. -250.]\n",
      "  [-250.  500.]]]\n",
      " mu_0 : [[25. 50.]]\n",
      " mu_1 : [[30. 65.]]\n",
      " sigma_0 : [[708.33333333  83.33333333]\n",
      " [ 83.33333333 708.33333333]]\n",
      " sigma_1 : [[1325.  100.]\n",
      " [ 100. 1325.]]\n",
      "[[0.82222222]\n",
      " [0.37777778]]\n"
     ]
    },
    {
     "data": {
      "text/plain": "array([[3., 0.],\n       [0., 3.]])"
     },
     "execution_count": 3,
     "metadata": {},
     "output_type": "execute_result"
    },
    {
     "data": {
      "text/plain": "<Figure size 432x288 with 1 Axes>",
      "image/png": "[encoded data removed]"
     },
     "metadata": {
      "needs_background": "light"
     },
     "output_type": "display_data"
    }
   ]
  },
  {
   "cell_type": "code",
   "metadata": {
    "id": "FjjR4AQSwuK-"
   },
   "source": [
    ""
   ],
   "execution_count": 2,
   "outputs": []
  }
 ]
}