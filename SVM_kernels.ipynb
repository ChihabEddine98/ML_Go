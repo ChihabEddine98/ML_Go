{
  "nbformat": 4,
  "nbformat_minor": 0,
  "metadata": {
    "colab": {
      "name": "Copie de Sujet-TP3.ipynb",
      "provenance": [],
      "collapsed_sections": [],
      "include_colab_link": true
    },
    "kernelspec": {
      "name": "python3",
      "display_name": "Python 3"
    }
  },
  "cells": [
    {
      "cell_type": "markdown",
      "metadata": {
        "id": "view-in-github",
        "colab_type": "text"
      },
      "source": [
        "<a href=\"https://colab.research.google.com/github/ChihabEddine98/ML_Go/blob/master/SVM_kernels.ipynb\" target=\"_parent\"><img src=\"https://colab.research.google.com/assets/colab-badge.svg\" alt=\"Open In Colab\"/></a>"
      ]
    },
    {
      "cell_type": "code",
      "metadata": {
        "id": "d_zoVo5GBKUX"
      },
      "source": [
        "#@title\n",
        "import os\n",
        "import pandas as pd\n",
        "\n",
        "%matplotlib inline\n",
        "import matplotlib.pyplot as plt\n",
        "import numpy as np\n",
        "from sklearn.svm import SVC\n",
        "from matplotlib.colors import ListedColormap\n",
        "\n",
        "def plot_svc_decision_function(model, ax=None, plot_support=True):\n",
        "    \"\"\"Plot the decision function for a 2D SVC\"\"\"\n",
        "    if ax is None:\n",
        "        ax = plt.gca()\n",
        "    xlim = ax.get_xlim()\n",
        "    ylim = ax.get_ylim()\n",
        "    \n",
        "    # create grid to evaluate model\n",
        "    x = np.linspace(xlim[0], xlim[1], 30)\n",
        "    y = np.linspace(ylim[0], ylim[1], 30)\n",
        "    Y, X = np.meshgrid(y, x)\n",
        "    xy = np.vstack([X.ravel(), Y.ravel()]).T\n",
        "    P = model.decision_function(xy).reshape(X.shape)\n",
        "    \n",
        "    # plot decision boundary and margins\n",
        "    ax.contour(X, Y, P, colors='k',\n",
        "               levels=[-1, 0, 1], alpha=0.5,\n",
        "               linestyles=['--', '-', '--'])\n",
        "    \n",
        "    # plot support vectors\n",
        "    if plot_support and len(model.support_vectors_<1):\n",
        "        ax.scatter(model.support_vectors_[:, 0],\n",
        "                   model.support_vectors_[:, 1],\n",
        "                   s=300, linewidth=1, facecolors='black',alpha=0.3);\n",
        "    ax.set_xlim(xlim)\n",
        "    ax.set_ylim(ylim)\n",
        "\n",
        "\n",
        "def plot_decision_regions_svm(X, y, classifier, resolution=0.02):\n",
        "\n",
        "    markers = ('s', 'x', 'o', '^', 'v')\n",
        "    colors = ('red', 'blue', 'lightgreen', 'gray', 'cyan')\n",
        "    cmap = ListedColormap(colors[:len(np.unique(y))])\n",
        "\n",
        "    x1_min, x1_max = X[:, 0].min() - 1, X[:, 0].max() + 1\n",
        "    x2_min, x2_max = X[:, 1].min() - 1, X[:, 1].max() + 1\n",
        "    #plot_svc_decision_boundary(classifier,x1_min,x1_max)\n",
        "    xx1, xx2 = np.meshgrid(np.arange(x1_min, x1_max, resolution),\n",
        "                           np.arange(x2_min, x2_max, resolution))\n",
        "    Z = classifier.predict(np.array([xx1.ravel(), xx2.ravel()]).T)\n",
        "    Z = Z.reshape(xx1.shape)\n",
        "    plt.contourf(xx1, xx2, Z, alpha=0.3, cmap=cmap)\n",
        "    plt.xlim(xx1.min(), xx1.max())\n",
        "    plt.ylim(xx2.min(), xx2.max())\n",
        "\n",
        "    for idx, cl in enumerate(np.unique(y)):\n",
        "        plt.scatter(x=X[y == cl, 0], \n",
        "                    y=X[y == cl, 1],\n",
        "                    alpha=0.8, \n",
        "                    c=colors[idx],\n",
        "                    marker=markers[idx], \n",
        "                    label=cl, \n",
        "                    edgecolor='black')\n",
        "    plot_svc_decision_function(classifier)\n",
        "    "
      ],
      "execution_count": 1,
      "outputs": []
    },
    {
      "cell_type": "markdown",
      "metadata": {
        "id": "_Q2aVPTbBLDJ"
      },
      "source": [
        "## Impact de la standardisation des données\n",
        "\n",
        "Le code fournit une petit dataset de 4 obsvervations.\n",
        "\n",
        "1. Entrainez un SVM linéaire sur et représentez les résultats dans un graphique avec la fonction plot_decision_region_svm(X,y,classifieur)\n",
        "2. Générez une version standardisée du même jeu de données (à la main)\n",
        "répétez la question 1 sur le le nouveau jeu de données. Concluez."
      ]
    },
    {
      "cell_type": "code",
      "metadata": {
        "id": "KgAeiYBGCLTo",
        "colab": {
          "base_uri": "https://localhost:8080/",
          "height": 266
        },
        "outputId": "734fc6ca-50c1-4763-a58a-3f6bf0a9c5a2"
      },
      "source": [
        "Xs = np.array([[1, 50], [5, 20], [3, 80], [5, 60]]).astype(np.float64)\n",
        "ys = np.array([0, 0, 1, 1])\n",
        "\n",
        "clf = SVC(kernel='linear')\n",
        "clf.fit(Xs,ys)\n",
        "\n",
        "plot_decision_regions_svm(Xs,ys,clf)\n",
        "\n"
      ],
      "execution_count": 8,
      "outputs": [
        {
          "output_type": "display_data",
          "data": {
            "image/png": "[encoded data removed]",
            "text/plain": [
              "<Figure size 432x288 with 1 Axes>"
            ]
          },
          "metadata": {
            "tags": [],
            "needs_background": "light"
          }
        }
      ]
    },
    {
      "cell_type": "code",
      "metadata": {
        "id": "a-HV2gx8HJqb"
      },
      "source": [
        ""
      ],
      "execution_count": 2,
      "outputs": []
    },
    {
      "cell_type": "markdown",
      "metadata": {
        "id": "1Yvf0N3SHguZ"
      },
      "source": [
        "## Impact du paramètre C sur le classifieur\n",
        "On reprend l'exemple de la base Iris, cas non séparable.\n",
        "1- Créez une fonction qui sépare alétoirement le jeu de données en deux sous ensembles, dits 'TRAIN' (80% du dataset) et 'TEST'(20% du dataset). Note: on aura donc en sortie de la fonction X_train,Y_train,X_test et X_test\n",
        "\n",
        "1- Entrainez un classifieur avec linéaire avec C=1, C=50, et C=200, et comparez leur accuracies et affichez le frontières de décisions et vecteurs supports. Que constatez-vous?\n",
        "\n",
        "2- Recherche du C optimal: on donne un liste de valeurs pour C à évaluer. En répétant l'opération 50 fois: \n",
        "\n",
        "    -Séparer alétoirement le dataset en deux ensembles TRAIN et TEST\n",
        "\n",
        "    -Evaluez l'accuracy du classifieur pour toutes les valeurs de C\n",
        "\n",
        "Affichez un plot, qui donne l'accuracy moyenne sur les 50 essais pour chaque valeur de C. Concluez."
      ]
    },
    {
      "cell_type": "code",
      "metadata": {
        "colab": {
          "base_uri": "https://localhost:8080/",
          "height": 296
        },
        "id": "JyoLaST-LJJn",
        "outputId": "5fa9a216-8176-4a4a-ac4a-58bade25e0c9"
      },
      "source": [
        "s = 'https://archive.ics.uci.edu/ml/machine-learning-databases/iris/iris.data'\n",
        "print('URL:', s)\n",
        "\n",
        "df = pd.read_csv(s,\n",
        "                 header=None,\n",
        "                 encoding='utf-8')\n",
        "\n",
        "# selectionn de setosa et versicolor\n",
        "y = df.iloc[50:150, 4].values\n",
        "\n",
        "# precedemment, on s'interessait à deux autres classes\n",
        "#y = np.where(y == 'Iris-setosa', -1, 1)\n",
        "y = np.where(y == 'Iris-versicolor', -1, 1)\n",
        "\n",
        "# extraction de la longueur du sepale length et de la longueur du petale\n",
        "X = df.iloc[50:150, [0, 2]].values\n",
        "\n",
        "# plot data\n",
        "plt.scatter(X[:50, 0], X[:50, 1],\n",
        "            color='red', marker='o', label='versicolor')\n",
        "plt.scatter(X[50:100, 0], X[50:100, 1],\n",
        "            color='blue', marker='x', label='virginica')\n",
        "\n",
        "plt.xlabel('longueur du sepale [cm]')\n",
        "plt.ylabel('longueur du petale [cm]')\n",
        "plt.legend(loc='upper left')\n",
        "\n",
        "plt.show()"
      ],
      "execution_count": 3,
      "outputs": [
        {
          "output_type": "stream",
          "text": [
            "URL: https://archive.ics.uci.edu/ml/machine-learning-databases/iris/iris.data\n"
          ],
          "name": "stdout"
        },
        {
          "output_type": "display_data",
          "data": {
            "image/png": "[encoded data removed]",
            "text/plain": [
              "<Figure size 432x288 with 1 Axes>"
            ]
          },
          "metadata": {
            "tags": [],
            "needs_background": "light"
          }
        }
      ]
    },
    {
      "cell_type": "code",
      "metadata": {
        "id": "32QhqfGuBZSy"
      },
      "source": [
        "def Separateur(X,y):\n",
        "  ##\n",
        "\n",
        "  ##\n",
        "  return X_train,y_train,X_test,y_test\n",
        "\n",
        "def accuracy(classif,X,y,X_test=None,y_test=None):\n",
        "  classif.fit(X,y)\n",
        "  if X_test is None:\n",
        "    y_pred= classif.predict(X)\n",
        "    return(np.sum(y==y_pred)/y.shape[0])\n",
        "  else:\n",
        "    y_pred= classif.predict(X_test)\n",
        "    return(np.sum(y_test==y_pred)/y_test.shape[0])\n"
      ],
      "execution_count": 4,
      "outputs": []
    },
    {
      "cell_type": "code",
      "metadata": {
        "id": "D6uWHJ6THdfC"
      },
      "source": [
        "\n"
      ],
      "execution_count": 4,
      "outputs": []
    },
    {
      "cell_type": "code",
      "metadata": {
        "id": "rFUArasONc1T"
      },
      "source": [
        "Cs=[1,2,3,4,5,10,20,30,40,50,60,70,80,90,100,200,500]\n"
      ],
      "execution_count": 5,
      "outputs": []
    },
    {
      "cell_type": "markdown",
      "metadata": {
        "id": "GRnjKw_-ULmx"
      },
      "source": [
        "## Méthodes à Noyaux, Cas quadratique\n",
        "\n",
        "On reprend l'exemple de dataset généré par la fonction Circles.\n",
        "\n",
        "1- Entrainez un SVM avec noyaux polynomial de degré 2 et affichez la frontière de décision.\n",
        "\n",
        "2- Implémenter (efficacement) une fonction *my_kernel(x, y):* prenant en entrée deux np.array de taille respectives $(1 \\times k)$ et $(1 \\times k)$ et qui retourne la distance entre $x$ et $y$ correspondant à un noyau quadratique: \n",
        "\n",
        "  *   $k_{quad} (x,y) = (x^\\top y)^2$\n",
        "\n",
        "2bis - Implémenter (efficacement) une fonction *my_gram(X, Y):* prenant en entrée deux np.array de taille respectives $(n \\times k)$ et $(m \\times k)$ et qui retourne la matrice de Gram $K$ (de taille $n\\times m$) d'un noyau polynomial de degree 2.\n",
        "\n",
        "\n",
        "3- Entrainer un SVM en utilisant la Matrice de Gram resultant de la fonction my_gram d'une part, et utilisant la fonction my_kernel d'autre part, et retournez les indices des vecteurs supports.\n",
        "\n"
      ]
    },
    {
      "cell_type": "code",
      "metadata": {
        "id": "XvF1vnW7Wwjp",
        "colab": {
          "base_uri": "https://localhost:8080/",
          "height": 265
        },
        "outputId": "ae85c143-9889-4927-c34b-3ff68273c9b4"
      },
      "source": [
        "from sklearn.datasets import make_circles\n",
        "\n",
        "X,y=make_circles(noise=0.07,factor=0.5)\n",
        "X=X*5\n",
        "\n",
        "plt.clf()\n",
        "plt.scatter(X[y==0][:,0],X[y==0][:,1],color='red', marker='o')\n",
        "plt.scatter(X[y==1][:,0],X[y==1][:,1],color='blue',marker='x')\n",
        "plt.show()\n",
        "\n"
      ],
      "execution_count": 6,
      "outputs": [
        {
          "output_type": "display_data",
          "data": {
            "image/png": "[encoded data removed]",
            "text/plain": [
              "<Figure size 432x288 with 1 Axes>"
            ]
          },
          "metadata": {
            "tags": [],
            "needs_background": "light"
          }
        }
      ]
    },
    {
      "cell_type": "code",
      "metadata": {
        "id": "rZTZ3ugQXlmk"
      },
      "source": [
        "\n"
      ],
      "execution_count": 6,
      "outputs": []
    },
    {
      "cell_type": "code",
      "metadata": {
        "id": "tOfVE3Nntys0",
        "colab": {
          "base_uri": "https://localhost:8080/",
          "height": 130
        },
        "outputId": "ceb8d0bc-6eb3-4f9e-ea6c-7b702c784638"
      },
      "source": [
        "def my_kernel(X,Y):)\n",
        "  \n",
        "\n"
      ],
      "execution_count": 7,
      "outputs": [
        {
          "output_type": "error",
          "ename": "SyntaxError",
          "evalue": "ignored",
          "traceback": [
            "\u001b[0;36m  File \u001b[0;32m\"<ipython-input-7-de1feece6c1d>\"\u001b[0;36m, line \u001b[0;32m1\u001b[0m\n\u001b[0;31m    def my_kernel(X,Y):)\u001b[0m\n\u001b[0m                       ^\u001b[0m\n\u001b[0;31mSyntaxError\u001b[0m\u001b[0;31m:\u001b[0m invalid syntax\n"
          ]
        }
      ]
    },
    {
      "cell_type": "code",
      "metadata": {
        "id": "VmidrCVF1VUM"
      },
      "source": [
        "def my_gram(X,Y):\n",
        " \n"
      ],
      "execution_count": null,
      "outputs": []
    },
    {
      "cell_type": "markdown",
      "metadata": {
        "id": "o8uQR2C70I2k"
      },
      "source": [
        "\n",
        "\n",
        "  "
      ]
    }
  ]
}